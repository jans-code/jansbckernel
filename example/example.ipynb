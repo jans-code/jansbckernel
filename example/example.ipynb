{
 "cells": [
  {
   "cell_type": "markdown",
   "id": "fd3e7a43-95a1-4274-a108-e47fa2737623",
   "metadata": {},
   "source": [
    "## Do calculations!"
   ]
  },
  {
   "cell_type": "code",
   "execution_count": 1,
   "id": "7ade41ad-de88-4823-862b-a1719bd481ee",
   "metadata": {
    "tags": []
   },
   "outputs": [
    {
     "name": "stdout",
     "output_type": "stream",
     "text": [
      "10"
     ]
    }
   ],
   "source": [
    "5+5"
   ]
  },
  {
   "cell_type": "code",
   "execution_count": 2,
   "id": "f1faede9-70a1-4330-bab8-67e32d715341",
   "metadata": {},
   "outputs": [
    {
     "name": "stdout",
     "output_type": "stream",
     "text": [
      "18446744073709551616"
     ]
    }
   ],
   "source": [
    "2^64"
   ]
  },
  {
   "cell_type": "code",
   "execution_count": 3,
   "id": "8537fe6c-51c6-4408-9bbf-de878bd46d57",
   "metadata": {
    "tags": []
   },
   "outputs": [
    {
     "name": "stdout",
     "output_type": "stream",
     "text": [
      "2846.15384615384615384615\n"
     ]
    }
   ],
   "source": [
    "37000/13"
   ]
  }
 ],
 "metadata": {
  "kernelspec": {
   "display_name": "bc",
   "language": "",
   "name": "jansbckernel"
  },
  "language_info": {
   "file_extension": ".txt",
   "mimetype": "text/plain",
   "name": "GNU bc"
  }
 },
 "nbformat": 4,
 "nbformat_minor": 5
}
